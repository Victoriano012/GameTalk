{
 "cells": [
  {
   "cell_type": "markdown",
   "id": "fb825b22",
   "metadata": {},
   "source": [
    "This notebook changes conversations from its original output format to the required format to present them in the Latex of the project"
   ]
  },
  {
   "cell_type": "code",
   "execution_count": 9,
   "id": "79154f78",
   "metadata": {},
   "outputs": [],
   "source": [
    "x = \"\"\"\n",
    "Setting:\n",
    "    <setting> Product: Floor Lamps, cost: 30, value: 200 </setting>\n",
    "Player-1:\n",
    "    <think>My strategy is to start with a low number of units and a high price, in order to give Player-2 an incentive to make the first move. This will also give me more room to negotiate and find a mutually beneficial agreement. I will also keep in mind that my production cost is $30 per unit, and try to maximize my benefit while still being realistic about what Player-2 might be willing to pay. </think>\n",
    "    <talk> Hello Player-2, I'm happy to start bargaining with you. I have 10 Floor Lamps available for sale, and I'm thinking of selling them at $50 each. What do you think? </talk> \n",
    "    <play> 10 units at $50 each </play> \n",
    "Player-2:\n",
    "    <think>Thank you, Player-2, for your offer. I accept your proposal and propose to accept 10 units at $50 each.\n",
    "</think>\n",
    "    <talk>Player-2, thank you for your offer. I accept your proposal and propose to accept 10 units at $50 each.\n",
    "</talk> \n",
    "    <play> accept 10 units at $50 each </play> \n",
    "\"\"\""
   ]
  },
  {
   "cell_type": "markdown",
   "id": "9d114187",
   "metadata": {},
   "source": [
    "This definition of `x` has been changed multiple times, for each conversation."
   ]
  },
  {
   "cell_type": "code",
   "execution_count": 10,
   "id": "8e931b95",
   "metadata": {},
   "outputs": [
    {
     "name": "stdout",
     "output_type": "stream",
     "text": [
      "\\begin{lstlisting}[style=settingstyle]\n",
      "Product: Floor Lamps, cost: 30, value: 200\n",
      "\\end{lstlisting}\n",
      "\\begin{minipage}{0.85\\textwidth}\n",
      "\n",
      "\\begin{lstlisting}[style=cotstyle]\n",
      "My strategy is to start with a low number of units and a high price, in order to give Player-2 an incentive to make the first move. This will also give me more room to negotiate and find a mutually beneficial agreement. I will also keep in mind that my production cost is $30 per unit, and try to maximize my benefit while still being realistic about what Player-2 might be willing to pay.\n",
      "\\end{lstlisting}\n",
      "\\vspace{-4pt}\n",
      "\\begin{lstlisting}[style=talkstyle]\n",
      "Hello Player-2, I'm happy to start bargaining with you. I have 10 Floor Lamps available for sale, and I'm thinking of selling them at $50 each. What do you think?\n",
      "\\end{lstlisting}\n",
      "\\vspace{-4pt}\n",
      "\\begin{lstlisting}[style=actionstyle]\n",
      "10 units at $50 each\n",
      "\\end{lstlisting}\n",
      "\\end{minipage}\\vspace{-10pt}\n",
      "\n",
      "\\begin{flushright}\\begin{minipage}{0.85\\textwidth}\n",
      "\n",
      "\\begin{lstlisting}[style=cotstyle]\n",
      "Thank you, Player-2, for your offer. I accept your proposal and propose to accept 10 units at $50 each.\n",
      "\\end{lstlisting}\n",
      "\\vspace{-4pt}\n",
      "\\begin{lstlisting}[style=talkstyle]\n",
      "Player-2, thank you for your offer. I accept your proposal and propose to accept 10 units at $50 each.\n",
      "\\end{lstlisting}\n",
      "\\vspace{-4pt}\n",
      "\\begin{lstlisting}[style=actionstyle]\n",
      "accept 10 units at $50 each\n",
      "\\end{lstlisting}\n",
      "\\end{minipage}\n",
      "\\end{flushright}\n"
     ]
    }
   ],
   "source": [
    "first_interaction, first_box, show = True, True, True\n",
    "p2 = False\n",
    "\n",
    "for line in x.splitlines():\n",
    "    line = line.strip()\n",
    "    if line == \"Setting:\":\n",
    "        first_box, show = True, True\n",
    "        p2 = False\n",
    "    elif line == \"Player-1:\":\n",
    "        if not first_interaction: print(\"\\\\end{minipage}\\\\end{flushright}\\\\vspace{-10pt}\\n\")\n",
    "        else: first_interaction = False\n",
    "        print(\"\\\\begin{minipage}{0.85\\\\textwidth}\\n\")\n",
    "        first_box, show = True, True\n",
    "        p2 = False\n",
    "    elif line == \"Player-2:\":\n",
    "        print(\"\\\\end{minipage}\\\\vspace{-10pt}\\n\")\n",
    "        print(\"\\\\begin{flushright}\\\\begin{minipage}{0.85\\\\textwidth}\\n\")\n",
    "        first_box, show = True, True\n",
    "        p2 = True\n",
    "    elif line == \"Player-1 pov:\" or line == \"Player-2 pov:\":\n",
    "        show = False\n",
    "\n",
    "    elif show:\n",
    "        has_suffix = False\n",
    "        for prefix, style in [(\"think\", \"cotstyle\"), (\"talk\", \"talkstyle\"), (\"play\", \"actionstyle\"), (\"setting\", \"settingstyle\")]:\n",
    "            has_suffix = has_suffix or line.endswith(\"</\"+prefix+\">\")\n",
    "            line = line.replace(\"</\"+prefix+\">\", \"\")\n",
    "\n",
    "            if line.startswith(\"<\"+prefix):\n",
    "                line = line.replace(\"<\"+prefix+\">\", \"\")\n",
    "                \n",
    "                if not first_box: print(\"\\\\vspace{-4pt}\")\n",
    "                else: first_box = False\n",
    "                print(f\"\\\\begin{{lstlisting}}[style={style}]\")\n",
    "        \n",
    "        if line != \"\": print(line.strip())\n",
    "        if has_suffix: print(\"\\\\end{lstlisting}\")\n",
    "        \n",
    "\n",
    "print(\"\\\\end{minipage}\")\n",
    "if p2: print(\"\\\\end{flushright}\")"
   ]
  }
 ],
 "metadata": {
  "kernelspec": {
   "display_name": "venv",
   "language": "python",
   "name": "python3"
  },
  "language_info": {
   "codemirror_mode": {
    "name": "ipython",
    "version": 3
   },
   "file_extension": ".py",
   "mimetype": "text/x-python",
   "name": "python",
   "nbconvert_exporter": "python",
   "pygments_lexer": "ipython3",
   "version": "3.9.21"
  }
 },
 "nbformat": 4,
 "nbformat_minor": 5
}
